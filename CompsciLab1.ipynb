{
  "nbformat": 4,
  "nbformat_minor": 0,
  "metadata": {
    "colab": {
      "provenance": [],
      "authorship_tag": "ABX9TyM2A+gWpFAIfXAZRMbbo6zx",
      "include_colab_link": true
    },
    "kernelspec": {
      "name": "python3",
      "display_name": "Python 3"
    },
    "language_info": {
      "name": "python"
    }
  },
  "cells": [
    {
      "cell_type": "markdown",
      "metadata": {
        "id": "view-in-github",
        "colab_type": "text"
      },
      "source": [
        "<a href=\"https://colab.research.google.com/github/MaWalterMon/ProjectsForGitHub/blob/main/CompsciLab1.ipynb\" target=\"_parent\"><img src=\"https://colab.research.google.com/assets/colab-badge.svg\" alt=\"Open In Colab\"/></a>"
      ]
    },
    {
      "cell_type": "code",
      "execution_count": null,
      "metadata": {
        "id": "-yYZmwkZhpAb"
      },
      "outputs": [],
      "source": [
        "#CS175L\n",
        "#Matthew Walter\n",
        "#Junior"
      ]
    },
    {
      "cell_type": "code",
      "source": [
        "#name_printer.py\n",
        "print(\"+--------------+\");\n",
        "print(\"|Matthew Walter|\");\n",
        "print(\"+--------------+\");\n",
        "\n"
      ],
      "metadata": {
        "colab": {
          "base_uri": "https://localhost:8080/"
        },
        "id": "hA7xc-ZniU-R",
        "outputId": "689cf268-ae20-4bbe-a3ab-c4643590e71b"
      },
      "execution_count": null,
      "outputs": [
        {
          "output_type": "stream",
          "name": "stdout",
          "text": [
            "+--------------+\n",
            "|Matthew Walter|\n",
            "+--------------+\n"
          ]
        }
      ]
    },
    {
      "cell_type": "code",
      "source": [
        "#account_balance.py\n",
        "initialBalance=1000.00\n",
        "yearlyInterest=0.5\n",
        "yearOne=initialBalance*yearlyInterest+initialBalance\n",
        "print(f\"Year one: ${yearOne:,.2f}\")\n",
        "yearTwo=yearOne*yearlyInterest+yearOne\n",
        "print(f\"Year Two: ${yearTwo:,.2f}\")\n",
        "yearThree=yearTwo*yearlyInterest+yearTwo\n",
        "print(f\"Year Three ${yearThree:,.2f}\")\n",
        "\n"
      ],
      "metadata": {
        "colab": {
          "base_uri": "https://localhost:8080/"
        },
        "id": "La-gmvrri4fx",
        "outputId": "5722206e-0080-4492-a2a5-5d6e74ee94df"
      },
      "execution_count": null,
      "outputs": [
        {
          "output_type": "stream",
          "name": "stdout",
          "text": [
            "Year one: $1,500.00\n",
            "Year Two: $2,250.00\n",
            "Year Three $3,375.00\n"
          ]
        }
      ]
    },
    {
      "cell_type": "code",
      "source": [
        "#math_ops.py\n",
        "numberOne=input(\"What is the first number \");\n",
        "numberTwo=input(\"What is the second number \");\n",
        "#sum\n",
        "print(f\"Sum: {float(numberOne)+float(numberTwo)}\");\n",
        "#difference\n",
        "print(f\"Difference: {float(numberOne)-float(numberTwo)}\");\n",
        "#product\n",
        "print(f\"Product: {float(numberOne)*float(numberTwo)}\");\n",
        "#average\n",
        "print(f\"Average: {(float(numberOne)+float(numberTwo))/2}\");\n",
        "#Distance\n",
        "print(f\"Distance: {abs(float(numberOne)-float(numberTwo))}\")\n",
        "#Maximum\n",
        "print(f\"Maximum: {max(float(numberOne),float(numberTwo))}\")\n",
        "#Minimum\n",
        "print(f\"Minimum: {min(float(numberOne),float(numberTwo))}\")"
      ],
      "metadata": {
        "colab": {
          "base_uri": "https://localhost:8080/"
        },
        "id": "Xq3u4eV8lGD1",
        "outputId": "9fac9f76-6b4a-430c-b8df-a61335c9686f"
      },
      "execution_count": null,
      "outputs": [
        {
          "output_type": "stream",
          "name": "stdout",
          "text": [
            "What is the first number 5\n",
            "What is the second number 6\n",
            "Sum: 11.0\n",
            "Difference: -1.0\n",
            "Product: 30.0\n",
            "Average: 5.5\n",
            "Distance: 1.0\n",
            "Maximum: 6.0\n",
            "Minimum: 5.0\n"
          ]
        }
      ]
    },
    {
      "cell_type": "code",
      "source": [
        "#f_to_c.py\n",
        "fTemp=input(\"Please input the Temperature in Farenheit: \")\n",
        "cTemp=(float(fTemp)-32)*5/9\n",
        "print(f\"Temperature in Celsius: {cTemp:.2f}\")"
      ],
      "metadata": {
        "colab": {
          "base_uri": "https://localhost:8080/"
        },
        "id": "V44LOF_4nqis",
        "outputId": "9e22d16b-46d1-4e4c-cdf3-5bb2c9c99d07"
      },
      "execution_count": null,
      "outputs": [
        {
          "output_type": "stream",
          "name": "stdout",
          "text": [
            "Please input the Temperature in Farenheit: 70\n",
            "Temperature in Celsius: 21.11\n"
          ]
        }
      ]
    },
    {
      "cell_type": "code",
      "source": [
        "#format_print.py\n",
        "num1 = 1.8\n",
        "num2 = 12.9\n",
        "num1 = 1.8\n",
        "num2 = 12.9\n",
        "num3 = 2\n",
        "num4 = 100.25\n",
        "print(f\"{num1:6.2f}\")\n",
        "print(f\"{num2:6.2f}\")\n",
        "print(f\"{num3:6.2f}\")\n",
        "print(f\"{num4:6.2f}\")"
      ],
      "metadata": {
        "colab": {
          "base_uri": "https://localhost:8080/"
        },
        "id": "WvFq0wDcpLnv",
        "outputId": "823dafc6-3099-40e0-8b26-3336c41f9dd1"
      },
      "execution_count": null,
      "outputs": [
        {
          "output_type": "stream",
          "name": "stdout",
          "text": [
            "  1.80\n",
            " 12.90\n",
            "  2.00\n",
            "100.25\n"
          ]
        }
      ]
    },
    {
      "cell_type": "code",
      "source": [
        "#print_grid.py\n",
        "hLine=str(\"+--+--+--+\")\n",
        "vLine=str(\"|  |  |  |\")\n",
        "print(hLine)\n",
        "print(vLine)\n",
        "print(hLine)\n",
        "print(vLine)\n",
        "print(hLine)\n",
        "print(vLine)\n",
        "print(hLine)\n"
      ],
      "metadata": {
        "colab": {
          "base_uri": "https://localhost:8080/"
        },
        "id": "9qXK3DuMvTDH",
        "outputId": "69998c27-0f2a-4b1d-edda-f26488e7dc74"
      },
      "execution_count": null,
      "outputs": [
        {
          "output_type": "stream",
          "name": "stdout",
          "text": [
            "+--+--+--+\n",
            "|  |  |  |\n",
            "+--+--+--+\n",
            "|  |  |  |\n",
            "+--+--+--+\n",
            "|  |  |  |\n",
            "+--+--+--+\n"
          ]
        }
      ]
    }
  ]
}